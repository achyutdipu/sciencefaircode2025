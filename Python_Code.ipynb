{
  "nbformat": 4,
  "nbformat_minor": 0,
  "metadata": {
    "colab": {
      "provenance": [],
      "include_colab_link": true
    },
    "kernelspec": {
      "name": "python3",
      "display_name": "Python 3"
    },
    "language_info": {
      "name": "python"
    }
  },
  "cells": [
    {
      "cell_type": "markdown",
      "metadata": {
        "id": "view-in-github",
        "colab_type": "text"
      },
      "source": [
        "<a href=\"https://colab.research.google.com/github/achyutdipu/sciencefaircode2025/blob/main/Python_Code.ipynb\" target=\"_parent\"><img src=\"https://colab.research.google.com/assets/colab-badge.svg\" alt=\"Open In Colab\"/></a>"
      ]
    },
    {
      "cell_type": "markdown",
      "source": [
        "# Set Up"
      ],
      "metadata": {
        "id": "36iCjub2wgaU"
      }
    },
    {
      "cell_type": "markdown",
      "source": [
        "Uploading files"
      ],
      "metadata": {
        "id": "0fgti5az36QV"
      }
    },
    {
      "cell_type": "code",
      "execution_count": 11,
      "metadata": {
        "id": "Cqroxnzgox6r"
      },
      "outputs": [],
      "source": [
        "# from google.colab import files\n",
        "# uploaded = files.upload()\n",
        "# !unzip dataset-resized.zip"
      ]
    },
    {
      "cell_type": "markdown",
      "source": [
        "# Data Cleaning"
      ],
      "metadata": {
        "id": "frO2TA_gWvyw"
      }
    },
    {
      "cell_type": "markdown",
      "source": [
        "Data Cleaning of Databases, TrashNet database here."
      ],
      "metadata": {
        "id": "h-47nYwIXEI-"
      }
    },
    {
      "cell_type": "code",
      "source": [
        "import os\n",
        "def getpath(path:str):\n",
        "  while not os.path.exists(path):\n",
        "    os.makedirs(path)\n",
        "getpath(\"science_fair\")\n",
        "def movefiles(currpath:str, tobemoved:str, conv:str, numdigits:int=4, jpg:bool=True):\n",
        "  getpath(\"science_fair/class_\" + tobemoved + \"/\")\n",
        "  for i in range(1, 10**numdigits):\n",
        "    j = str(i)\n",
        "    k = j\n",
        "    while len(k) < 5:\n",
        "      k = \"0\" + k\n",
        "    if jpg:\n",
        "      if os.path.isfile(currpath + \"/\" + conv + j + \".jpg\"):\n",
        "        os.rename(currpath + \"/\" + conv + j + \".jpg\", \"science_fair/class_\" + tobemoved + \"/\" + tobemoved + \"_image_\" + k + \".jpg\")\n",
        "      else:\n",
        "        continue\n",
        "    else:\n",
        "      if os.path.isfile(currpath + \"/\" + conv + j + \".png\"):\n",
        "        os.rename(currpath + \"/\" + conv + j + \".png\", \"science_fair/class_\" + tobemoved + \"/\" + tobemoved + \"_image_\" + k + \".jpg\")\n",
        "      else:\n",
        "        continue\n",
        "def movefileslst(currpathlst:list, tobemovedlst:list, convs:list, numdigits:int=4, jpg:bool=True):\n",
        "  for i in range(0, len(currpathlst)):\n",
        "    movefiles(currpathlst[i], tobemovedlst[i], convs[i], numdigits=numdigits, jpg=jpg)\n",
        "dataset1 = [\"dataset1/cardboard\", \"dataset1/glass\", \"dataset1/metal\", \"dataset1/paper\", \"dataset1/plastic\", \"trash\"]\n",
        "dataset1convs = [\"cardboard\", \"glass\", \"metal\", \"paper\", \"plastic\", \"trash\"]\n",
        "tobemoved1 = [\"cardboard\", \"glass\", \"metal\", \"paper\", \"plastic\", \"trash\"]\n",
        "movefileslst(dataset1, tobemoved1, dataset1convs, numdigits=3)"
      ],
      "metadata": {
        "id": "qOfx0rVm2n0p"
      },
      "execution_count": 12,
      "outputs": []
    },
    {
      "cell_type": "markdown",
      "source": [
        "# AI"
      ],
      "metadata": {
        "id": "OFQvndBOXCh5"
      }
    },
    {
      "cell_type": "markdown",
      "source": [
        "AI creation with all functions."
      ],
      "metadata": {
        "id": "3oVkjNv7XSs0"
      }
    },
    {
      "cell_type": "code",
      "source": [
        "import numpy as np\n",
        "import os\n",
        "from sklearn.model_selection import train_test_split\n",
        "from sklearn.metrics import confusion_matrix\n",
        "import itertools\n",
        "import pandas\n",
        "import tensorflow\n",
        "from keras.utils import to_categorical # convert to one-hot-encoding\n",
        "from keras.models import Sequential\n",
        "from keras.layers import Dense, Dropout, Flatten, Conv2D, MaxPool2D\n",
        "from keras.optimizers import RMSprop\n",
        "from keras.preprocessing import image_dataset_from_directory\n",
        "from keras.callbacks import ReduceLROnPlateau, EarlyStopping\n",
        "\n",
        "def get_imlist(path:str):\n",
        "    return [os.path.join(path,f) for f in os.listdir(path) if f.endswith('.jpg') or f.endswith('.png') or f.endswith('.jpeg')]\n",
        "print(\"Something\")\n",
        "# print(get_imlist('/home/chronos/u-c38b9bb5f5aad02dfbb7c2d350cb341e3e9feabe/MyFiles/Downloads/media/archive/dataset-resized.zip/dataset-resized/trash'))\n",
        "def get_dataset(path:str, height:int, same:bool=True, width:int=480) -> tensorflow.data.Dataset: # path to directory must be sorted with folders\n",
        "    if same:\n",
        "      im = image_dataset_from_directory(path, color_mode='rgb', image_size=(height, height), labels='inferred')\n",
        "    else:\n",
        "      im = image_dataset_from_directory(path, color_mode='rgb', image_size=(width, width), labels='inferred')\n",
        "    return im\n",
        "def parse_dataset(dataset:tensorflow.data.Dataset) -> list:\n",
        "  print(dataset)\n",
        "  X = []\n",
        "  Y = []\n",
        "  for index, row in dataset:\n",
        "    X.append(list(dataset.resize((128, 128))).flatten() / 255.0)\n",
        "    Y.append(row[1])\n",
        "  X = np.array(X)\n",
        "  Y = to_categorical(Y, 2)\n",
        "  X = X.reshape(-1, 128, 128, 3)\n",
        "  X_train, X_val, Y_train, Y_val = train_test_split(X, Y, test_size = 0.2, random_state=5)\n",
        "  return [X_train, X_val, Y_train, Y_val]\n",
        "def CNN() -> tensorflow.keras.Sequential: # building cnn\n",
        "  model = Sequential()\n",
        "  model.add(Conv2D(filters = 32, kernel_size = (5,5), padding='valid', activation='relu', data_format='channels_last'))\n",
        "  model.add(Conv2D(filters = 32, kernel_size = (5,5), padding='valid', activation='relu'))\n",
        "  model.add(MaxPool2D(pool_size=(2,2)))\n",
        "  model.add(Dropout(0.25))\n",
        "  model.add(Flatten())\n",
        "  model.add(Dense(256, activation='relu'))\n",
        "  model.add(Dropout(0.5))\n",
        "  model.add(Dense(2, activation='softmax'))\n",
        "  return model\n",
        "model = CNN()\n",
        "model.summary()\n",
        "def fine_tuning(model:tensorflow.keras.Sequential=model) -> tensorflow.keras.callbacks.EarlyStopping: # fine tuning model\n",
        "  optimizer = RMSprop(learning_rate=0.0005, rho=0.9, epsilon=1e-08, weight_decay=0.0)\n",
        "  model.compile(optimizer = optimizer, loss = \"categorical_crossentropy\", metrics=[\"accuracy\"])\n",
        "  early_stopping = EarlyStopping(monitor='val_acc', min_delta=0, patience=2, verbose=0, mode='auto')\n",
        "  return early_stopping\n",
        "early_stopping = fine_tuning(model)\n",
        "# lst = parse_dataset(get_dataset(\"science_fair\", 480, same=True))\n",
        "lst=[1, 2, 3, 4]\n",
        "def model_training(model:tensorflow.keras.Sequential=model, epochs:int=30, batch_size:int=100, training_list:list=lst, early_stopping:tensorflow.keras.callbacks.EarlyStopping=early_stopping, verbose:int=2) -> tensorflow.keras.callbacks.History:\n",
        "  history = model.fit(training_list[0], training_list[2], batch_size = batch_size, epochs = epochs, validation_data = (training_list[1], training_list[3]), verbose = 2, callbacks=[early_stopping])\n",
        "  return history"
      ],
      "metadata": {
        "colab": {
          "base_uri": "https://localhost:8080/",
          "height": 415
        },
        "id": "yKqxqZFVXXSX",
        "outputId": "b29e19d7-bdc6-4779-e60d-50921c5f116f"
      },
      "execution_count": 10,
      "outputs": [
        {
          "output_type": "stream",
          "name": "stdout",
          "text": [
            "Something\n"
          ]
        },
        {
          "output_type": "display_data",
          "data": {
            "text/plain": [
              "\u001b[1mModel: \"sequential_6\"\u001b[0m\n"
            ],
            "text/html": [
              "<pre style=\"white-space:pre;overflow-x:auto;line-height:normal;font-family:Menlo,'DejaVu Sans Mono',consolas,'Courier New',monospace\"><span style=\"font-weight: bold\">Model: \"sequential_6\"</span>\n",
              "</pre>\n"
            ]
          },
          "metadata": {}
        },
        {
          "output_type": "display_data",
          "data": {
            "text/plain": [
              "┏━━━━━━━━━━━━━━━━━━━━━━━━━━━━━━━━━━━━━━┳━━━━━━━━━━━━━━━━━━━━━━━━━━━━━┳━━━━━━━━━━━━━━━━━┓\n",
              "┃\u001b[1m \u001b[0m\u001b[1mLayer (type)                        \u001b[0m\u001b[1m \u001b[0m┃\u001b[1m \u001b[0m\u001b[1mOutput Shape               \u001b[0m\u001b[1m \u001b[0m┃\u001b[1m \u001b[0m\u001b[1m        Param #\u001b[0m\u001b[1m \u001b[0m┃\n",
              "┡━━━━━━━━━━━━━━━━━━━━━━━━━━━━━━━━━━━━━━╇━━━━━━━━━━━━━━━━━━━━━━━━━━━━━╇━━━━━━━━━━━━━━━━━┩\n",
              "│ conv2d_12 (\u001b[38;5;33mConv2D\u001b[0m)                   │ ?                           │     \u001b[38;5;34m0\u001b[0m (unbuilt) │\n",
              "├──────────────────────────────────────┼─────────────────────────────┼─────────────────┤\n",
              "│ conv2d_13 (\u001b[38;5;33mConv2D\u001b[0m)                   │ ?                           │     \u001b[38;5;34m0\u001b[0m (unbuilt) │\n",
              "├──────────────────────────────────────┼─────────────────────────────┼─────────────────┤\n",
              "│ max_pooling2d_6 (\u001b[38;5;33mMaxPooling2D\u001b[0m)       │ ?                           │     \u001b[38;5;34m0\u001b[0m (unbuilt) │\n",
              "├──────────────────────────────────────┼─────────────────────────────┼─────────────────┤\n",
              "│ dropout_12 (\u001b[38;5;33mDropout\u001b[0m)                 │ ?                           │     \u001b[38;5;34m0\u001b[0m (unbuilt) │\n",
              "├──────────────────────────────────────┼─────────────────────────────┼─────────────────┤\n",
              "│ flatten_6 (\u001b[38;5;33mFlatten\u001b[0m)                  │ ?                           │     \u001b[38;5;34m0\u001b[0m (unbuilt) │\n",
              "├──────────────────────────────────────┼─────────────────────────────┼─────────────────┤\n",
              "│ dense_12 (\u001b[38;5;33mDense\u001b[0m)                     │ ?                           │     \u001b[38;5;34m0\u001b[0m (unbuilt) │\n",
              "├──────────────────────────────────────┼─────────────────────────────┼─────────────────┤\n",
              "│ dropout_13 (\u001b[38;5;33mDropout\u001b[0m)                 │ ?                           │     \u001b[38;5;34m0\u001b[0m (unbuilt) │\n",
              "├──────────────────────────────────────┼─────────────────────────────┼─────────────────┤\n",
              "│ dense_13 (\u001b[38;5;33mDense\u001b[0m)                     │ ?                           │     \u001b[38;5;34m0\u001b[0m (unbuilt) │\n",
              "└──────────────────────────────────────┴─────────────────────────────┴─────────────────┘\n"
            ],
            "text/html": [
              "<pre style=\"white-space:pre;overflow-x:auto;line-height:normal;font-family:Menlo,'DejaVu Sans Mono',consolas,'Courier New',monospace\">┏━━━━━━━━━━━━━━━━━━━━━━━━━━━━━━━━━━━━━━┳━━━━━━━━━━━━━━━━━━━━━━━━━━━━━┳━━━━━━━━━━━━━━━━━┓\n",
              "┃<span style=\"font-weight: bold\"> Layer (type)                         </span>┃<span style=\"font-weight: bold\"> Output Shape                </span>┃<span style=\"font-weight: bold\">         Param # </span>┃\n",
              "┡━━━━━━━━━━━━━━━━━━━━━━━━━━━━━━━━━━━━━━╇━━━━━━━━━━━━━━━━━━━━━━━━━━━━━╇━━━━━━━━━━━━━━━━━┩\n",
              "│ conv2d_12 (<span style=\"color: #0087ff; text-decoration-color: #0087ff\">Conv2D</span>)                   │ ?                           │     <span style=\"color: #00af00; text-decoration-color: #00af00\">0</span> (unbuilt) │\n",
              "├──────────────────────────────────────┼─────────────────────────────┼─────────────────┤\n",
              "│ conv2d_13 (<span style=\"color: #0087ff; text-decoration-color: #0087ff\">Conv2D</span>)                   │ ?                           │     <span style=\"color: #00af00; text-decoration-color: #00af00\">0</span> (unbuilt) │\n",
              "├──────────────────────────────────────┼─────────────────────────────┼─────────────────┤\n",
              "│ max_pooling2d_6 (<span style=\"color: #0087ff; text-decoration-color: #0087ff\">MaxPooling2D</span>)       │ ?                           │     <span style=\"color: #00af00; text-decoration-color: #00af00\">0</span> (unbuilt) │\n",
              "├──────────────────────────────────────┼─────────────────────────────┼─────────────────┤\n",
              "│ dropout_12 (<span style=\"color: #0087ff; text-decoration-color: #0087ff\">Dropout</span>)                 │ ?                           │     <span style=\"color: #00af00; text-decoration-color: #00af00\">0</span> (unbuilt) │\n",
              "├──────────────────────────────────────┼─────────────────────────────┼─────────────────┤\n",
              "│ flatten_6 (<span style=\"color: #0087ff; text-decoration-color: #0087ff\">Flatten</span>)                  │ ?                           │     <span style=\"color: #00af00; text-decoration-color: #00af00\">0</span> (unbuilt) │\n",
              "├──────────────────────────────────────┼─────────────────────────────┼─────────────────┤\n",
              "│ dense_12 (<span style=\"color: #0087ff; text-decoration-color: #0087ff\">Dense</span>)                     │ ?                           │     <span style=\"color: #00af00; text-decoration-color: #00af00\">0</span> (unbuilt) │\n",
              "├──────────────────────────────────────┼─────────────────────────────┼─────────────────┤\n",
              "│ dropout_13 (<span style=\"color: #0087ff; text-decoration-color: #0087ff\">Dropout</span>)                 │ ?                           │     <span style=\"color: #00af00; text-decoration-color: #00af00\">0</span> (unbuilt) │\n",
              "├──────────────────────────────────────┼─────────────────────────────┼─────────────────┤\n",
              "│ dense_13 (<span style=\"color: #0087ff; text-decoration-color: #0087ff\">Dense</span>)                     │ ?                           │     <span style=\"color: #00af00; text-decoration-color: #00af00\">0</span> (unbuilt) │\n",
              "└──────────────────────────────────────┴─────────────────────────────┴─────────────────┘\n",
              "</pre>\n"
            ]
          },
          "metadata": {}
        },
        {
          "output_type": "display_data",
          "data": {
            "text/plain": [
              "\u001b[1m Total params: \u001b[0m\u001b[38;5;34m0\u001b[0m (0.00 B)\n"
            ],
            "text/html": [
              "<pre style=\"white-space:pre;overflow-x:auto;line-height:normal;font-family:Menlo,'DejaVu Sans Mono',consolas,'Courier New',monospace\"><span style=\"font-weight: bold\"> Total params: </span><span style=\"color: #00af00; text-decoration-color: #00af00\">0</span> (0.00 B)\n",
              "</pre>\n"
            ]
          },
          "metadata": {}
        },
        {
          "output_type": "display_data",
          "data": {
            "text/plain": [
              "\u001b[1m Trainable params: \u001b[0m\u001b[38;5;34m0\u001b[0m (0.00 B)\n"
            ],
            "text/html": [
              "<pre style=\"white-space:pre;overflow-x:auto;line-height:normal;font-family:Menlo,'DejaVu Sans Mono',consolas,'Courier New',monospace\"><span style=\"font-weight: bold\"> Trainable params: </span><span style=\"color: #00af00; text-decoration-color: #00af00\">0</span> (0.00 B)\n",
              "</pre>\n"
            ]
          },
          "metadata": {}
        },
        {
          "output_type": "display_data",
          "data": {
            "text/plain": [
              "\u001b[1m Non-trainable params: \u001b[0m\u001b[38;5;34m0\u001b[0m (0.00 B)\n"
            ],
            "text/html": [
              "<pre style=\"white-space:pre;overflow-x:auto;line-height:normal;font-family:Menlo,'DejaVu Sans Mono',consolas,'Courier New',monospace\"><span style=\"font-weight: bold\"> Non-trainable params: </span><span style=\"color: #00af00; text-decoration-color: #00af00\">0</span> (0.00 B)\n",
              "</pre>\n"
            ]
          },
          "metadata": {}
        }
      ]
    }
  ]
}
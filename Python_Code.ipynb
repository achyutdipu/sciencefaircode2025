{
  "nbformat": 4,
  "nbformat_minor": 0,
  "metadata": {
    "colab": {
      "provenance": [],
      "toc_visible": true,
      "authorship_tag": "ABX9TyMPUMJJOUna7zyiOTHTl3iH",
      "include_colab_link": true
    },
    "kernelspec": {
      "name": "python3",
      "display_name": "Python 3"
    },
    "language_info": {
      "name": "python"
    }
  },
  "cells": [
    {
      "cell_type": "markdown",
      "metadata": {
        "id": "view-in-github",
        "colab_type": "text"
      },
      "source": [
        "<a href=\"https://colab.research.google.com/github/achyutdipu/sciencefaircode2025/blob/main/Python_Code.ipynb\" target=\"_parent\"><img src=\"https://colab.research.google.com/assets/colab-badge.svg\" alt=\"Open In Colab\"/></a>"
      ]
    },
    {
      "cell_type": "markdown",
      "source": [
        "# Set Up"
      ],
      "metadata": {
        "id": "OcizRmappMCC"
      }
    },
    {
      "cell_type": "markdown",
      "source": [
        "The basic program code (including imports) at the start of the program and some debugging code if needed."
      ],
      "metadata": {
        "id": "0fgti5az36QV"
      }
    },
    {
      "cell_type": "code",
      "execution_count": 19,
      "metadata": {
        "id": "Cqroxnzgox6r",
        "colab": {
          "base_uri": "https://localhost:8080/"
        },
        "outputId": "da9999b4-1474-4726-ee9b-8836ab23a0bd"
      },
      "outputs": [
        {
          "output_type": "stream",
          "name": "stdout",
          "text": [
            "{'elec': [], 'glass': [], 'cardboard': [], 'paper': [], 'metal': [], 'trash': [], 'clothes': [], 'bio': [], 'shoes': []}\n",
            "elec: \n",
            "\n",
            "glass: \n",
            "\n",
            "cardboard: \n",
            "\n",
            "paper: \n",
            "\n",
            "metal: \n",
            "\n",
            "trash: \n",
            "\n",
            "clothes: \n",
            "\n",
            "bio: \n",
            "\n",
            "shoes: \n",
            "\n",
            "elec length: 0\n",
            "\n",
            "glass length: 0\n",
            "\n",
            "cardboard length: 0\n",
            "\n",
            "paper length: 0\n",
            "\n",
            "metal length: 0\n",
            "\n",
            "trash length: 0\n",
            "\n",
            "clothes length: 0\n",
            "\n",
            "bio length: 0\n",
            "\n",
            "shoes length: 0\n"
          ]
        }
      ],
      "source": [
        "import matplotlib.pyplot as plt\n",
        "import seaborn as sns\n",
        "import numpy as np\n",
        "final_dic = {\"elec\": [], \"glass\": [], \"cardboard\": [], \"paper\": [], \"metal\": [], \"trash\": [], \"clothes\": [], \"bio\": [], \"shoes\": []}\n",
        "# Debug code for dictionary: print(final_dic)\n",
        "# Debug code for lists (easier to read): print(\"\\n\\n\".join([str(i) + \": \" + \", \".join(final_dic[str(i)]) for i in final_dic]))\n",
        "# Debug code for length of lists: print(\"\\n\\n\".join([str(i) + \" length: \" + str(len(final_dic[str(i)])) for i in final_dic]))\n",
        "print(final_dic)\n",
        "print(\"\\n\\n\".join([str(i) + \": \" + \", \".join(final_dic[str(i)]) for i in final_dic]) + \"\\n\")\n",
        "print(\"\\n\\n\".join([str(i) + \" length: \" + str(len(final_dic[str(i)])) for i in final_dic]))\n",
        "# Sample code for changing list in dictionary: final_dic[\"elec\"] = ['apple', 'banana', 'cherry']\n",
        "final_dic[\"elec\"] = ['apple', 'banana', 'cherry']\n",
        "# Sample code for removing elements from dictionary: final_dic[\"elec\"].pop(1) or final_dic[\"elec\"].remove('cherry')\n",
        "final_dic[\"elec\"].pop(1)\n",
        "final_dic[\"elec\"].remove('cherry'), final_dic[\"elec\"].remove('apple')\n",
        "# Sample code for adding elements to dictionary: final_dic[\"elec\"].append(\"2\")\n",
        "final_dic[\"elec\"].append(\"2\")\n",
        "# Sample code for emptying list in dictionary: final_dic[\"elec\"].clear()\n",
        "final_dic[\"elec\"].clear()"
      ]
    },
    {
      "cell_type": "code",
      "source": [],
      "metadata": {
        "id": "NggoSKy-po2v"
      },
      "execution_count": null,
      "outputs": []
    }
  ]
}
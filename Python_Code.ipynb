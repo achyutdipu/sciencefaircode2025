{
  "nbformat": 4,
  "nbformat_minor": 0,
  "metadata": {
    "colab": {
      "provenance": [],
      "toc_visible": true,
      "authorship_tag": "ABX9TyPykQVXU/t7CHW9t4E5klKJ",
      "include_colab_link": true
    },
    "kernelspec": {
      "name": "python3",
      "display_name": "Python 3"
    },
    "language_info": {
      "name": "python"
    }
  },
  "cells": [
    {
      "cell_type": "markdown",
      "metadata": {
        "id": "view-in-github",
        "colab_type": "text"
      },
      "source": [
        "<a href=\"https://colab.research.google.com/github/achyutdipu/sciencefaircode2025/blob/main/Python_Code.ipynb\" target=\"_parent\"><img src=\"https://colab.research.google.com/assets/colab-badge.svg\" alt=\"Open In Colab\"/></a>"
      ]
    },
    {
      "cell_type": "markdown",
      "source": [
        "# Set Up"
      ],
      "metadata": {
        "id": "OcizRmappMCC"
      }
    },
    {
      "cell_type": "code",
      "execution_count": null,
      "metadata": {
        "id": "Cqroxnzgox6r"
      },
      "outputs": [],
      "source": [
        "final = {\"elec\": [], \"glass\": [], \"cardboard\": [], \"paper\": [], \"metal\": [], \"trash\": [], \"clothes\": [], \"bio\": [], \"shoes\": []}"
      ]
    },
    {
      "cell_type": "code",
      "source": [],
      "metadata": {
        "id": "NggoSKy-po2v"
      },
      "execution_count": null,
      "outputs": []
    }
  ]
}